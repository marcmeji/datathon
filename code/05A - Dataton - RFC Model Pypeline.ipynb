{
 "cells": [
  {
   "cell_type": "code",
   "execution_count": 39,
   "metadata": {},
   "outputs": [],
   "source": [
    "import pandas as pd\n",
    "import numpy as np\n",
    "\n",
    "from sklearn.ensemble import RandomForestClassifier\n",
    "from sklearn.metrics import f1_score\n",
    "from sklearn.metrics import accuracy_score\n",
    "from sklearn.metrics import confusion_matrix\n",
    "\n",
    "from sklearn.model_selection import train_test_split\n",
    "from sklearn.model_selection import GridSearchCV\n",
    "\n",
    "import matplotlib as plt\n",
    "\n",
    "%matplotlib inline"
   ]
  },
  {
   "cell_type": "code",
   "execution_count": 2,
   "metadata": {},
   "outputs": [],
   "source": [
    "#Read csv\n",
    "url = '../data/cookies_target_binned.csv'\n",
    "df = pd.read_csv(url)\n",
    "target = 'quality_binned'"
   ]
  },
  {
   "cell_type": "code",
   "execution_count": 3,
   "metadata": {},
   "outputs": [],
   "source": [
    "#Separating train set into X and y\n",
    "X = df.drop(target, axis=1)\n",
    "y = df[target]"
   ]
  },
  {
   "cell_type": "code",
   "execution_count": 33,
   "metadata": {},
   "outputs": [],
   "source": [
    "#Split DF into train and test (15% test):\n",
    "X_train, X_test, y_train, y_test = train_test_split(X, y, test_size=0.2,stratify = y, random_state=42)"
   ]
  },
  {
   "cell_type": "code",
   "execution_count": 26,
   "metadata": {},
   "outputs": [],
   "source": [
    "#Grid search for parameter selection for a Random Forest Classifier model\n",
    "param_grid = {\n",
    "    'n_estimators': [300, 500, 1000],\n",
    "    'max_features': ['auto','sqrt','log2'],\n",
    "    'max_depth': [10, 8, 6]\n",
    "}"
   ]
  },
  {
   "cell_type": "code",
   "execution_count": 6,
   "metadata": {},
   "outputs": [],
   "source": [
    "#Model creation:\n",
    "RFC = RandomForestClassifier(n_jobs=-1)\n",
    "GS = GridSearchCV(RFC, param_grid, cv=5, verbose = 3)"
   ]
  },
  {
   "cell_type": "code",
   "execution_count": 7,
   "metadata": {},
   "outputs": [
    {
     "name": "stdout",
     "output_type": "stream",
     "text": [
      "Fitting 5 folds for each of 27 candidates, totalling 135 fits\n",
      "[CV] max_depth=10, max_features=auto, n_estimators=300 ...............\n"
     ]
    },
    {
     "name": "stderr",
     "output_type": "stream",
     "text": [
      "[Parallel(n_jobs=1)]: Using backend SequentialBackend with 1 concurrent workers.\n"
     ]
    },
    {
     "name": "stdout",
     "output_type": "stream",
     "text": [
      "[CV]  max_depth=10, max_features=auto, n_estimators=300, score=0.814, total=   2.2s\n",
      "[CV] max_depth=10, max_features=auto, n_estimators=300 ...............\n"
     ]
    },
    {
     "name": "stderr",
     "output_type": "stream",
     "text": [
      "[Parallel(n_jobs=1)]: Done   1 out of   1 | elapsed:    2.2s remaining:    0.0s\n"
     ]
    },
    {
     "name": "stdout",
     "output_type": "stream",
     "text": [
      "[CV]  max_depth=10, max_features=auto, n_estimators=300, score=0.818, total=   2.7s\n",
      "[CV] max_depth=10, max_features=auto, n_estimators=300 ...............\n"
     ]
    },
    {
     "name": "stderr",
     "output_type": "stream",
     "text": [
      "[Parallel(n_jobs=1)]: Done   2 out of   2 | elapsed:    4.9s remaining:    0.0s\n"
     ]
    },
    {
     "name": "stdout",
     "output_type": "stream",
     "text": [
      "[CV]  max_depth=10, max_features=auto, n_estimators=300, score=0.826, total=   2.3s\n",
      "[CV] max_depth=10, max_features=auto, n_estimators=300 ...............\n",
      "[CV]  max_depth=10, max_features=auto, n_estimators=300, score=0.841, total=   2.3s\n",
      "[CV] max_depth=10, max_features=auto, n_estimators=300 ...............\n",
      "[CV]  max_depth=10, max_features=auto, n_estimators=300, score=0.821, total=   2.6s\n",
      "[CV] max_depth=10, max_features=auto, n_estimators=500 ...............\n",
      "[CV]  max_depth=10, max_features=auto, n_estimators=500, score=0.807, total=   2.7s\n",
      "[CV] max_depth=10, max_features=auto, n_estimators=500 ...............\n",
      "[CV]  max_depth=10, max_features=auto, n_estimators=500, score=0.820, total=   2.8s\n",
      "[CV] max_depth=10, max_features=auto, n_estimators=500 ...............\n",
      "[CV]  max_depth=10, max_features=auto, n_estimators=500, score=0.823, total=   3.3s\n",
      "[CV] max_depth=10, max_features=auto, n_estimators=500 ...............\n",
      "[CV]  max_depth=10, max_features=auto, n_estimators=500, score=0.835, total=   2.7s\n",
      "[CV] max_depth=10, max_features=auto, n_estimators=500 ...............\n",
      "[CV]  max_depth=10, max_features=auto, n_estimators=500, score=0.814, total=   2.7s\n",
      "[CV] max_depth=10, max_features=auto, n_estimators=1000 ..............\n",
      "[CV]  max_depth=10, max_features=auto, n_estimators=1000, score=0.813, total=   4.0s\n",
      "[CV] max_depth=10, max_features=auto, n_estimators=1000 ..............\n",
      "[CV]  max_depth=10, max_features=auto, n_estimators=1000, score=0.823, total=   3.8s\n",
      "[CV] max_depth=10, max_features=auto, n_estimators=1000 ..............\n",
      "[CV]  max_depth=10, max_features=auto, n_estimators=1000, score=0.826, total=   4.0s\n",
      "[CV] max_depth=10, max_features=auto, n_estimators=1000 ..............\n",
      "[CV]  max_depth=10, max_features=auto, n_estimators=1000, score=0.840, total=   3.4s\n",
      "[CV] max_depth=10, max_features=auto, n_estimators=1000 ..............\n",
      "[CV]  max_depth=10, max_features=auto, n_estimators=1000, score=0.816, total=   3.2s\n",
      "[CV] max_depth=10, max_features=sqrt, n_estimators=300 ...............\n",
      "[CV]  max_depth=10, max_features=sqrt, n_estimators=300, score=0.812, total=   2.1s\n",
      "[CV] max_depth=10, max_features=sqrt, n_estimators=300 ...............\n",
      "[CV]  max_depth=10, max_features=sqrt, n_estimators=300, score=0.817, total=   2.1s\n",
      "[CV] max_depth=10, max_features=sqrt, n_estimators=300 ...............\n",
      "[CV]  max_depth=10, max_features=sqrt, n_estimators=300, score=0.825, total=   2.3s\n",
      "[CV] max_depth=10, max_features=sqrt, n_estimators=300 ...............\n",
      "[CV]  max_depth=10, max_features=sqrt, n_estimators=300, score=0.840, total=   2.2s\n",
      "[CV] max_depth=10, max_features=sqrt, n_estimators=300 ...............\n",
      "[CV]  max_depth=10, max_features=sqrt, n_estimators=300, score=0.816, total=   2.2s\n",
      "[CV] max_depth=10, max_features=sqrt, n_estimators=500 ...............\n",
      "[CV]  max_depth=10, max_features=sqrt, n_estimators=500, score=0.809, total=   2.5s\n",
      "[CV] max_depth=10, max_features=sqrt, n_estimators=500 ...............\n",
      "[CV]  max_depth=10, max_features=sqrt, n_estimators=500, score=0.821, total=   2.5s\n",
      "[CV] max_depth=10, max_features=sqrt, n_estimators=500 ...............\n",
      "[CV]  max_depth=10, max_features=sqrt, n_estimators=500, score=0.824, total=   2.5s\n",
      "[CV] max_depth=10, max_features=sqrt, n_estimators=500 ...............\n",
      "[CV]  max_depth=10, max_features=sqrt, n_estimators=500, score=0.832, total=   2.5s\n",
      "[CV] max_depth=10, max_features=sqrt, n_estimators=500 ...............\n",
      "[CV]  max_depth=10, max_features=sqrt, n_estimators=500, score=0.817, total=   2.5s\n",
      "[CV] max_depth=10, max_features=sqrt, n_estimators=1000 ..............\n",
      "[CV]  max_depth=10, max_features=sqrt, n_estimators=1000, score=0.812, total=   3.2s\n",
      "[CV] max_depth=10, max_features=sqrt, n_estimators=1000 ..............\n",
      "[CV]  max_depth=10, max_features=sqrt, n_estimators=1000, score=0.821, total=   3.3s\n",
      "[CV] max_depth=10, max_features=sqrt, n_estimators=1000 ..............\n",
      "[CV]  max_depth=10, max_features=sqrt, n_estimators=1000, score=0.821, total=   3.2s\n",
      "[CV] max_depth=10, max_features=sqrt, n_estimators=1000 ..............\n",
      "[CV]  max_depth=10, max_features=sqrt, n_estimators=1000, score=0.835, total=   3.5s\n",
      "[CV] max_depth=10, max_features=sqrt, n_estimators=1000 ..............\n",
      "[CV]  max_depth=10, max_features=sqrt, n_estimators=1000, score=0.816, total=   3.2s\n",
      "[CV] max_depth=10, max_features=log2, n_estimators=300 ...............\n",
      "[CV]  max_depth=10, max_features=log2, n_estimators=300, score=0.809, total=   2.2s\n",
      "[CV] max_depth=10, max_features=log2, n_estimators=300 ...............\n",
      "[CV]  max_depth=10, max_features=log2, n_estimators=300, score=0.820, total=   2.2s\n",
      "[CV] max_depth=10, max_features=log2, n_estimators=300 ...............\n",
      "[CV]  max_depth=10, max_features=log2, n_estimators=300, score=0.826, total=   2.2s\n",
      "[CV] max_depth=10, max_features=log2, n_estimators=300 ...............\n",
      "[CV]  max_depth=10, max_features=log2, n_estimators=300, score=0.835, total=   2.2s\n",
      "[CV] max_depth=10, max_features=log2, n_estimators=300 ...............\n",
      "[CV]  max_depth=10, max_features=log2, n_estimators=300, score=0.821, total=   2.2s\n",
      "[CV] max_depth=10, max_features=log2, n_estimators=500 ...............\n",
      "[CV]  max_depth=10, max_features=log2, n_estimators=500, score=0.818, total=   2.5s\n",
      "[CV] max_depth=10, max_features=log2, n_estimators=500 ...............\n",
      "[CV]  max_depth=10, max_features=log2, n_estimators=500, score=0.818, total=   2.5s\n",
      "[CV] max_depth=10, max_features=log2, n_estimators=500 ...............\n",
      "[CV]  max_depth=10, max_features=log2, n_estimators=500, score=0.821, total=   2.6s\n",
      "[CV] max_depth=10, max_features=log2, n_estimators=500 ...............\n",
      "[CV]  max_depth=10, max_features=log2, n_estimators=500, score=0.836, total=   2.6s\n",
      "[CV] max_depth=10, max_features=log2, n_estimators=500 ...............\n",
      "[CV]  max_depth=10, max_features=log2, n_estimators=500, score=0.814, total=   2.5s\n",
      "[CV] max_depth=10, max_features=log2, n_estimators=1000 ..............\n",
      "[CV]  max_depth=10, max_features=log2, n_estimators=1000, score=0.813, total=   3.3s\n",
      "[CV] max_depth=10, max_features=log2, n_estimators=1000 ..............\n",
      "[CV]  max_depth=10, max_features=log2, n_estimators=1000, score=0.817, total=   3.3s\n",
      "[CV] max_depth=10, max_features=log2, n_estimators=1000 ..............\n",
      "[CV]  max_depth=10, max_features=log2, n_estimators=1000, score=0.825, total=   3.2s\n",
      "[CV] max_depth=10, max_features=log2, n_estimators=1000 ..............\n",
      "[CV]  max_depth=10, max_features=log2, n_estimators=1000, score=0.838, total=   3.3s\n",
      "[CV] max_depth=10, max_features=log2, n_estimators=1000 ..............\n",
      "[CV]  max_depth=10, max_features=log2, n_estimators=1000, score=0.814, total=   3.3s\n",
      "[CV] max_depth=8, max_features=auto, n_estimators=300 ................\n",
      "[CV]  max_depth=8, max_features=auto, n_estimators=300, score=0.791, total=   2.4s\n",
      "[CV] max_depth=8, max_features=auto, n_estimators=300 ................\n",
      "[CV]  max_depth=8, max_features=auto, n_estimators=300, score=0.800, total=   3.1s\n",
      "[CV] max_depth=8, max_features=auto, n_estimators=300 ................\n",
      "[CV]  max_depth=8, max_features=auto, n_estimators=300, score=0.803, total=   2.4s\n",
      "[CV] max_depth=8, max_features=auto, n_estimators=300 ................\n",
      "[CV]  max_depth=8, max_features=auto, n_estimators=300, score=0.815, total=   2.5s\n",
      "[CV] max_depth=8, max_features=auto, n_estimators=300 ................\n",
      "[CV]  max_depth=8, max_features=auto, n_estimators=300, score=0.789, total=   2.7s\n",
      "[CV] max_depth=8, max_features=auto, n_estimators=500 ................\n",
      "[CV]  max_depth=8, max_features=auto, n_estimators=500, score=0.797, total=   2.8s\n",
      "[CV] max_depth=8, max_features=auto, n_estimators=500 ................\n",
      "[CV]  max_depth=8, max_features=auto, n_estimators=500, score=0.797, total=   2.9s\n",
      "[CV] max_depth=8, max_features=auto, n_estimators=500 ................\n",
      "[CV]  max_depth=8, max_features=auto, n_estimators=500, score=0.801, total=   2.6s\n",
      "[CV] max_depth=8, max_features=auto, n_estimators=500 ................\n",
      "[CV]  max_depth=8, max_features=auto, n_estimators=500, score=0.821, total=   2.7s\n",
      "[CV] max_depth=8, max_features=auto, n_estimators=500 ................\n",
      "[CV]  max_depth=8, max_features=auto, n_estimators=500, score=0.793, total=   2.8s\n",
      "[CV] max_depth=8, max_features=auto, n_estimators=1000 ...............\n"
     ]
    },
    {
     "name": "stdout",
     "output_type": "stream",
     "text": [
      "[CV]  max_depth=8, max_features=auto, n_estimators=1000, score=0.791, total=   3.3s\n",
      "[CV] max_depth=8, max_features=auto, n_estimators=1000 ...............\n",
      "[CV]  max_depth=8, max_features=auto, n_estimators=1000, score=0.802, total=   3.7s\n",
      "[CV] max_depth=8, max_features=auto, n_estimators=1000 ...............\n",
      "[CV]  max_depth=8, max_features=auto, n_estimators=1000, score=0.802, total=   4.0s\n",
      "[CV] max_depth=8, max_features=auto, n_estimators=1000 ...............\n",
      "[CV]  max_depth=8, max_features=auto, n_estimators=1000, score=0.821, total=   3.9s\n",
      "[CV] max_depth=8, max_features=auto, n_estimators=1000 ...............\n",
      "[CV]  max_depth=8, max_features=auto, n_estimators=1000, score=0.795, total=   3.1s\n",
      "[CV] max_depth=8, max_features=sqrt, n_estimators=300 ................\n",
      "[CV]  max_depth=8, max_features=sqrt, n_estimators=300, score=0.790, total=   2.2s\n",
      "[CV] max_depth=8, max_features=sqrt, n_estimators=300 ................\n",
      "[CV]  max_depth=8, max_features=sqrt, n_estimators=300, score=0.795, total=   2.3s\n",
      "[CV] max_depth=8, max_features=sqrt, n_estimators=300 ................\n",
      "[CV]  max_depth=8, max_features=sqrt, n_estimators=300, score=0.800, total=   2.2s\n",
      "[CV] max_depth=8, max_features=sqrt, n_estimators=300 ................\n",
      "[CV]  max_depth=8, max_features=sqrt, n_estimators=300, score=0.825, total=   2.2s\n",
      "[CV] max_depth=8, max_features=sqrt, n_estimators=300 ................\n",
      "[CV]  max_depth=8, max_features=sqrt, n_estimators=300, score=0.793, total=   2.2s\n",
      "[CV] max_depth=8, max_features=sqrt, n_estimators=500 ................\n",
      "[CV]  max_depth=8, max_features=sqrt, n_estimators=500, score=0.790, total=   2.5s\n",
      "[CV] max_depth=8, max_features=sqrt, n_estimators=500 ................\n",
      "[CV]  max_depth=8, max_features=sqrt, n_estimators=500, score=0.798, total=   2.5s\n",
      "[CV] max_depth=8, max_features=sqrt, n_estimators=500 ................\n",
      "[CV]  max_depth=8, max_features=sqrt, n_estimators=500, score=0.807, total=   2.8s\n",
      "[CV] max_depth=8, max_features=sqrt, n_estimators=500 ................\n",
      "[CV]  max_depth=8, max_features=sqrt, n_estimators=500, score=0.815, total=   4.0s\n",
      "[CV] max_depth=8, max_features=sqrt, n_estimators=500 ................\n",
      "[CV]  max_depth=8, max_features=sqrt, n_estimators=500, score=0.792, total=   3.9s\n",
      "[CV] max_depth=8, max_features=sqrt, n_estimators=1000 ...............\n",
      "[CV]  max_depth=8, max_features=sqrt, n_estimators=1000, score=0.797, total=   3.7s\n",
      "[CV] max_depth=8, max_features=sqrt, n_estimators=1000 ...............\n",
      "[CV]  max_depth=8, max_features=sqrt, n_estimators=1000, score=0.801, total=   3.3s\n",
      "[CV] max_depth=8, max_features=sqrt, n_estimators=1000 ...............\n",
      "[CV]  max_depth=8, max_features=sqrt, n_estimators=1000, score=0.801, total=   3.4s\n",
      "[CV] max_depth=8, max_features=sqrt, n_estimators=1000 ...............\n",
      "[CV]  max_depth=8, max_features=sqrt, n_estimators=1000, score=0.824, total=   3.3s\n",
      "[CV] max_depth=8, max_features=sqrt, n_estimators=1000 ...............\n",
      "[CV]  max_depth=8, max_features=sqrt, n_estimators=1000, score=0.792, total=   3.2s\n",
      "[CV] max_depth=8, max_features=log2, n_estimators=300 ................\n",
      "[CV]  max_depth=8, max_features=log2, n_estimators=300, score=0.792, total=   2.3s\n",
      "[CV] max_depth=8, max_features=log2, n_estimators=300 ................\n",
      "[CV]  max_depth=8, max_features=log2, n_estimators=300, score=0.807, total=   2.4s\n",
      "[CV] max_depth=8, max_features=log2, n_estimators=300 ................\n",
      "[CV]  max_depth=8, max_features=log2, n_estimators=300, score=0.803, total=   2.5s\n",
      "[CV] max_depth=8, max_features=log2, n_estimators=300 ................\n",
      "[CV]  max_depth=8, max_features=log2, n_estimators=300, score=0.827, total=   2.5s\n",
      "[CV] max_depth=8, max_features=log2, n_estimators=300 ................\n",
      "[CV]  max_depth=8, max_features=log2, n_estimators=300, score=0.795, total=   2.3s\n",
      "[CV] max_depth=8, max_features=log2, n_estimators=500 ................\n",
      "[CV]  max_depth=8, max_features=log2, n_estimators=500, score=0.792, total=   2.7s\n",
      "[CV] max_depth=8, max_features=log2, n_estimators=500 ................\n",
      "[CV]  max_depth=8, max_features=log2, n_estimators=500, score=0.797, total=   2.7s\n",
      "[CV] max_depth=8, max_features=log2, n_estimators=500 ................\n",
      "[CV]  max_depth=8, max_features=log2, n_estimators=500, score=0.801, total=   2.7s\n",
      "[CV] max_depth=8, max_features=log2, n_estimators=500 ................\n",
      "[CV]  max_depth=8, max_features=log2, n_estimators=500, score=0.819, total=   2.6s\n",
      "[CV] max_depth=8, max_features=log2, n_estimators=500 ................\n",
      "[CV]  max_depth=8, max_features=log2, n_estimators=500, score=0.792, total=   2.7s\n",
      "[CV] max_depth=8, max_features=log2, n_estimators=1000 ...............\n",
      "[CV]  max_depth=8, max_features=log2, n_estimators=1000, score=0.795, total=   3.4s\n",
      "[CV] max_depth=8, max_features=log2, n_estimators=1000 ...............\n",
      "[CV]  max_depth=8, max_features=log2, n_estimators=1000, score=0.796, total=   3.3s\n",
      "[CV] max_depth=8, max_features=log2, n_estimators=1000 ...............\n",
      "[CV]  max_depth=8, max_features=log2, n_estimators=1000, score=0.801, total=   3.6s\n",
      "[CV] max_depth=8, max_features=log2, n_estimators=1000 ...............\n",
      "[CV]  max_depth=8, max_features=log2, n_estimators=1000, score=0.819, total=   3.5s\n",
      "[CV] max_depth=8, max_features=log2, n_estimators=1000 ...............\n",
      "[CV]  max_depth=8, max_features=log2, n_estimators=1000, score=0.793, total=   3.5s\n",
      "[CV] max_depth=6, max_features=auto, n_estimators=300 ................\n",
      "[CV]  max_depth=6, max_features=auto, n_estimators=300, score=0.761, total=   2.3s\n",
      "[CV] max_depth=6, max_features=auto, n_estimators=300 ................\n",
      "[CV]  max_depth=6, max_features=auto, n_estimators=300, score=0.787, total=   2.3s\n",
      "[CV] max_depth=6, max_features=auto, n_estimators=300 ................\n",
      "[CV]  max_depth=6, max_features=auto, n_estimators=300, score=0.789, total=   2.3s\n",
      "[CV] max_depth=6, max_features=auto, n_estimators=300 ................\n",
      "[CV]  max_depth=6, max_features=auto, n_estimators=300, score=0.808, total=   2.2s\n",
      "[CV] max_depth=6, max_features=auto, n_estimators=300 ................\n",
      "[CV]  max_depth=6, max_features=auto, n_estimators=300, score=0.777, total=   2.3s\n",
      "[CV] max_depth=6, max_features=auto, n_estimators=500 ................\n",
      "[CV]  max_depth=6, max_features=auto, n_estimators=500, score=0.768, total=   2.7s\n",
      "[CV] max_depth=6, max_features=auto, n_estimators=500 ................\n",
      "[CV]  max_depth=6, max_features=auto, n_estimators=500, score=0.785, total=   2.7s\n",
      "[CV] max_depth=6, max_features=auto, n_estimators=500 ................\n",
      "[CV]  max_depth=6, max_features=auto, n_estimators=500, score=0.785, total=   2.7s\n",
      "[CV] max_depth=6, max_features=auto, n_estimators=500 ................\n",
      "[CV]  max_depth=6, max_features=auto, n_estimators=500, score=0.810, total=   2.7s\n",
      "[CV] max_depth=6, max_features=auto, n_estimators=500 ................\n",
      "[CV]  max_depth=6, max_features=auto, n_estimators=500, score=0.775, total=   2.7s\n",
      "[CV] max_depth=6, max_features=auto, n_estimators=1000 ...............\n",
      "[CV]  max_depth=6, max_features=auto, n_estimators=1000, score=0.766, total=   3.2s\n",
      "[CV] max_depth=6, max_features=auto, n_estimators=1000 ...............\n",
      "[CV]  max_depth=6, max_features=auto, n_estimators=1000, score=0.785, total=   3.2s\n",
      "[CV] max_depth=6, max_features=auto, n_estimators=1000 ...............\n",
      "[CV]  max_depth=6, max_features=auto, n_estimators=1000, score=0.787, total=   3.2s\n",
      "[CV] max_depth=6, max_features=auto, n_estimators=1000 ...............\n",
      "[CV]  max_depth=6, max_features=auto, n_estimators=1000, score=0.809, total=   3.2s\n",
      "[CV] max_depth=6, max_features=auto, n_estimators=1000 ...............\n",
      "[CV]  max_depth=6, max_features=auto, n_estimators=1000, score=0.777, total=   3.2s\n",
      "[CV] max_depth=6, max_features=sqrt, n_estimators=300 ................\n",
      "[CV]  max_depth=6, max_features=sqrt, n_estimators=300, score=0.768, total=   2.2s\n",
      "[CV] max_depth=6, max_features=sqrt, n_estimators=300 ................\n",
      "[CV]  max_depth=6, max_features=sqrt, n_estimators=300, score=0.784, total=   2.2s\n",
      "[CV] max_depth=6, max_features=sqrt, n_estimators=300 ................\n",
      "[CV]  max_depth=6, max_features=sqrt, n_estimators=300, score=0.784, total=   2.2s\n",
      "[CV] max_depth=6, max_features=sqrt, n_estimators=300 ................\n",
      "[CV]  max_depth=6, max_features=sqrt, n_estimators=300, score=0.808, total=   2.2s\n",
      "[CV] max_depth=6, max_features=sqrt, n_estimators=300 ................\n"
     ]
    },
    {
     "name": "stdout",
     "output_type": "stream",
     "text": [
      "[CV]  max_depth=6, max_features=sqrt, n_estimators=300, score=0.780, total=   2.4s\n",
      "[CV] max_depth=6, max_features=sqrt, n_estimators=500 ................\n",
      "[CV]  max_depth=6, max_features=sqrt, n_estimators=500, score=0.767, total=   2.7s\n",
      "[CV] max_depth=6, max_features=sqrt, n_estimators=500 ................\n",
      "[CV]  max_depth=6, max_features=sqrt, n_estimators=500, score=0.783, total=   2.7s\n",
      "[CV] max_depth=6, max_features=sqrt, n_estimators=500 ................\n",
      "[CV]  max_depth=6, max_features=sqrt, n_estimators=500, score=0.786, total=   3.3s\n",
      "[CV] max_depth=6, max_features=sqrt, n_estimators=500 ................\n",
      "[CV]  max_depth=6, max_features=sqrt, n_estimators=500, score=0.808, total=   3.4s\n",
      "[CV] max_depth=6, max_features=sqrt, n_estimators=500 ................\n",
      "[CV]  max_depth=6, max_features=sqrt, n_estimators=500, score=0.775, total=   3.5s\n",
      "[CV] max_depth=6, max_features=sqrt, n_estimators=1000 ...............\n",
      "[CV]  max_depth=6, max_features=sqrt, n_estimators=1000, score=0.766, total=   3.3s\n",
      "[CV] max_depth=6, max_features=sqrt, n_estimators=1000 ...............\n",
      "[CV]  max_depth=6, max_features=sqrt, n_estimators=1000, score=0.784, total=   3.3s\n",
      "[CV] max_depth=6, max_features=sqrt, n_estimators=1000 ...............\n",
      "[CV]  max_depth=6, max_features=sqrt, n_estimators=1000, score=0.792, total=   3.5s\n",
      "[CV] max_depth=6, max_features=sqrt, n_estimators=1000 ...............\n",
      "[CV]  max_depth=6, max_features=sqrt, n_estimators=1000, score=0.808, total=   3.3s\n",
      "[CV] max_depth=6, max_features=sqrt, n_estimators=1000 ...............\n",
      "[CV]  max_depth=6, max_features=sqrt, n_estimators=1000, score=0.775, total=   4.7s\n",
      "[CV] max_depth=6, max_features=log2, n_estimators=300 ................\n",
      "[CV]  max_depth=6, max_features=log2, n_estimators=300, score=0.765, total=   3.3s\n",
      "[CV] max_depth=6, max_features=log2, n_estimators=300 ................\n",
      "[CV]  max_depth=6, max_features=log2, n_estimators=300, score=0.780, total=   2.7s\n",
      "[CV] max_depth=6, max_features=log2, n_estimators=300 ................\n",
      "[CV]  max_depth=6, max_features=log2, n_estimators=300, score=0.790, total=   3.1s\n",
      "[CV] max_depth=6, max_features=log2, n_estimators=300 ................\n",
      "[CV]  max_depth=6, max_features=log2, n_estimators=300, score=0.807, total=   2.6s\n",
      "[CV] max_depth=6, max_features=log2, n_estimators=300 ................\n",
      "[CV]  max_depth=6, max_features=log2, n_estimators=300, score=0.773, total=   2.4s\n",
      "[CV] max_depth=6, max_features=log2, n_estimators=500 ................\n",
      "[CV]  max_depth=6, max_features=log2, n_estimators=500, score=0.765, total=   2.9s\n",
      "[CV] max_depth=6, max_features=log2, n_estimators=500 ................\n",
      "[CV]  max_depth=6, max_features=log2, n_estimators=500, score=0.786, total=   2.9s\n",
      "[CV] max_depth=6, max_features=log2, n_estimators=500 ................\n",
      "[CV]  max_depth=6, max_features=log2, n_estimators=500, score=0.783, total=   2.7s\n",
      "[CV] max_depth=6, max_features=log2, n_estimators=500 ................\n",
      "[CV]  max_depth=6, max_features=log2, n_estimators=500, score=0.812, total=   2.9s\n",
      "[CV] max_depth=6, max_features=log2, n_estimators=500 ................\n",
      "[CV]  max_depth=6, max_features=log2, n_estimators=500, score=0.772, total=   3.0s\n",
      "[CV] max_depth=6, max_features=log2, n_estimators=1000 ...............\n",
      "[CV]  max_depth=6, max_features=log2, n_estimators=1000, score=0.766, total=   3.9s\n",
      "[CV] max_depth=6, max_features=log2, n_estimators=1000 ...............\n",
      "[CV]  max_depth=6, max_features=log2, n_estimators=1000, score=0.785, total=   3.3s\n",
      "[CV] max_depth=6, max_features=log2, n_estimators=1000 ...............\n",
      "[CV]  max_depth=6, max_features=log2, n_estimators=1000, score=0.789, total=   3.9s\n",
      "[CV] max_depth=6, max_features=log2, n_estimators=1000 ...............\n",
      "[CV]  max_depth=6, max_features=log2, n_estimators=1000, score=0.809, total=   3.4s\n",
      "[CV] max_depth=6, max_features=log2, n_estimators=1000 ...............\n",
      "[CV]  max_depth=6, max_features=log2, n_estimators=1000, score=0.773, total=   3.0s\n"
     ]
    },
    {
     "name": "stderr",
     "output_type": "stream",
     "text": [
      "[Parallel(n_jobs=1)]: Done 135 out of 135 | elapsed:  6.5min finished\n"
     ]
    },
    {
     "data": {
      "text/plain": [
       "GridSearchCV(cv=5, error_score='raise-deprecating',\n",
       "             estimator=RandomForestClassifier(bootstrap=True, class_weight=None,\n",
       "                                              criterion='gini', max_depth=None,\n",
       "                                              max_features='auto',\n",
       "                                              max_leaf_nodes=None,\n",
       "                                              min_impurity_decrease=0.0,\n",
       "                                              min_impurity_split=None,\n",
       "                                              min_samples_leaf=1,\n",
       "                                              min_samples_split=2,\n",
       "                                              min_weight_fraction_leaf=0.0,\n",
       "                                              n_estimators='warn', n_jobs=-1,\n",
       "                                              oob_score=False,\n",
       "                                              random_state=None, verbose=0,\n",
       "                                              warm_start=False),\n",
       "             iid='warn', n_jobs=None,\n",
       "             param_grid={'max_depth': [10, 8, 6],\n",
       "                         'max_features': ['auto', 'sqrt', 'log2'],\n",
       "                         'n_estimators': [300, 500, 1000]},\n",
       "             pre_dispatch='2*n_jobs', refit=True, return_train_score=False,\n",
       "             scoring=None, verbose=3)"
      ]
     },
     "execution_count": 7,
     "metadata": {},
     "output_type": "execute_result"
    }
   ],
   "source": [
    "#LAUNCH MODEL:\n",
    "GS.fit(X_train, y_train)"
   ]
  },
  {
   "cell_type": "code",
   "execution_count": 16,
   "metadata": {},
   "outputs": [
    {
     "data": {
      "text/plain": [
       "{'max_depth': 10, 'max_features': 'auto', 'n_estimators': 300}"
      ]
     },
     "execution_count": 16,
     "metadata": {},
     "output_type": "execute_result"
    }
   ],
   "source": [
    "#We look for the best parameters of the model:\n",
    "GS.best_params_"
   ]
  },
  {
   "cell_type": "code",
   "execution_count": 34,
   "metadata": {},
   "outputs": [
    {
     "data": {
      "text/plain": [
       "RandomForestClassifier(bootstrap=True, class_weight=None, criterion='gini',\n",
       "                       max_depth=10, max_features='auto', max_leaf_nodes=None,\n",
       "                       min_impurity_decrease=0.0, min_impurity_split=None,\n",
       "                       min_samples_leaf=1, min_samples_split=2,\n",
       "                       min_weight_fraction_leaf=0.0, n_estimators=300,\n",
       "                       n_jobs=None, oob_score=False, random_state=None,\n",
       "                       verbose=0, warm_start=False)"
      ]
     },
     "execution_count": 34,
     "metadata": {},
     "output_type": "execute_result"
    }
   ],
   "source": [
    "#With the best parameters, we create the final model with the train dataset:\n",
    "RFC = RandomForestClassifier(max_depth = 10, max_features='auto', n_estimators=300)\n",
    "RFC.fit(X_train, y_train)"
   ]
  },
  {
   "cell_type": "code",
   "execution_count": 35,
   "metadata": {},
   "outputs": [],
   "source": [
    "#Prediction of the test dataset:\n",
    "y_train_pred = RFC.predict(X_train)\n",
    "y_pred = RFC.predict(X_test)"
   ]
  },
  {
   "cell_type": "code",
   "execution_count": 40,
   "metadata": {},
   "outputs": [
    {
     "name": "stdout",
     "output_type": "stream",
     "text": [
      "TRAIN MODEL METRICS:\n",
      "The F1 score is: 0.9318299376636487\n",
      "The accuracy is: 0.9354338842975206\n",
      "Confusion matrix:\n"
     ]
    },
    {
     "data": {
      "text/plain": [
       "array([[ 426,   14,    0],\n",
       "       [  17, 2733,   15],\n",
       "       [   0,  204,  463]])"
      ]
     },
     "execution_count": 40,
     "metadata": {},
     "output_type": "execute_result"
    }
   ],
   "source": [
    "#We check scores with train:\n",
    "f1 = f1_score(y_train, y_train_pred, labels=None, pos_label=1, average='weighted')\n",
    "accuracy = accuracy_score(y_train, y_train_pred)\n",
    "conf = confusion_matrix(y_train, y_train_pred)\n",
    "\n",
    "print ('TRAIN MODEL METRICS:')\n",
    "print('The F1 score is: ' + str(f1))\n",
    "print('The accuracy is: ' + str(accuracy))\n",
    "print('Confusion matrix:')\n",
    "conf"
   ]
  },
  {
   "cell_type": "code",
   "execution_count": 41,
   "metadata": {
    "scrolled": true
   },
   "outputs": [
    {
     "name": "stdout",
     "output_type": "stream",
     "text": [
      "TEST MODEL METRICS:\n",
      "The F1 score is: 0.8061611810717865\n",
      "The accuracy is: 0.8181818181818182\n",
      "Confusion matrix:\n"
     ]
    },
    {
     "data": {
      "text/plain": [
       "array([[ 82,  28,   0],\n",
       "       [ 27, 638,  26],\n",
       "       [  0,  95,  72]])"
      ]
     },
     "execution_count": 41,
     "metadata": {},
     "output_type": "execute_result"
    }
   ],
   "source": [
    "#We check scores with test:\n",
    "f1 = f1_score(y_test, y_pred, labels=None, pos_label=1, average='weighted')\n",
    "accuracy = accuracy_score(y_test, y_pred)\n",
    "conf = confusion_matrix(y_test, y_pred)\n",
    "\n",
    "print ('TEST MODEL METRICS:')\n",
    "print('The F1 score is: ' + str(f1))\n",
    "print('The accuracy is: ' + str(accuracy))\n",
    "print('Confusion matrix:')\n",
    "conf"
   ]
  },
  {
   "cell_type": "code",
   "execution_count": 31,
   "metadata": {
    "scrolled": true
   },
   "outputs": [],
   "source": [
    "features_list = RFC.feature_importances_"
   ]
  },
  {
   "cell_type": "code",
   "execution_count": 32,
   "metadata": {},
   "outputs": [],
   "source": [
    "features = pd.DataFrame(columns=['features','importance'])"
   ]
  },
  {
   "cell_type": "code",
   "execution_count": 23,
   "metadata": {},
   "outputs": [
    {
     "data": {
      "text/html": [
       "<div>\n",
       "<style scoped>\n",
       "    .dataframe tbody tr th:only-of-type {\n",
       "        vertical-align: middle;\n",
       "    }\n",
       "\n",
       "    .dataframe tbody tr th {\n",
       "        vertical-align: top;\n",
       "    }\n",
       "\n",
       "    .dataframe thead th {\n",
       "        text-align: right;\n",
       "    }\n",
       "</style>\n",
       "<table border=\"1\" class=\"dataframe\">\n",
       "  <thead>\n",
       "    <tr style=\"text-align: right;\">\n",
       "      <th></th>\n",
       "      <th>features</th>\n",
       "      <th>importance</th>\n",
       "    </tr>\n",
       "  </thead>\n",
       "  <tbody>\n",
       "    <tr>\n",
       "      <th>8</th>\n",
       "      <td>bake_time</td>\n",
       "      <td>0.152040</td>\n",
       "    </tr>\n",
       "    <tr>\n",
       "      <th>2</th>\n",
       "      <td>bake_temp</td>\n",
       "      <td>0.122079</td>\n",
       "    </tr>\n",
       "    <tr>\n",
       "      <th>5</th>\n",
       "      <td>density</td>\n",
       "      <td>0.119949</td>\n",
       "    </tr>\n",
       "    <tr>\n",
       "      <th>4</th>\n",
       "      <td>calories</td>\n",
       "      <td>0.093532</td>\n",
       "    </tr>\n",
       "    <tr>\n",
       "      <th>9</th>\n",
       "      <td>butter_type</td>\n",
       "      <td>0.090902</td>\n",
       "    </tr>\n",
       "    <tr>\n",
       "      <th>7</th>\n",
       "      <td>grams_baking_soda</td>\n",
       "      <td>0.075597</td>\n",
       "    </tr>\n",
       "    <tr>\n",
       "      <th>1</th>\n",
       "      <td>sugar_index</td>\n",
       "      <td>0.071242</td>\n",
       "    </tr>\n",
       "    <tr>\n",
       "      <th>6</th>\n",
       "      <td>pH</td>\n",
       "      <td>0.063906</td>\n",
       "    </tr>\n",
       "    <tr>\n",
       "      <th>3</th>\n",
       "      <td>chill_time</td>\n",
       "      <td>0.059827</td>\n",
       "    </tr>\n",
       "    <tr>\n",
       "      <th>0</th>\n",
       "      <td>sugar_to_flour_ratio</td>\n",
       "      <td>0.058803</td>\n",
       "    </tr>\n",
       "    <tr>\n",
       "      <th>10</th>\n",
       "      <td>weight</td>\n",
       "      <td>0.054315</td>\n",
       "    </tr>\n",
       "    <tr>\n",
       "      <th>11</th>\n",
       "      <td>nuts</td>\n",
       "      <td>0.027270</td>\n",
       "    </tr>\n",
       "    <tr>\n",
       "      <th>12</th>\n",
       "      <td>chocolate</td>\n",
       "      <td>0.010539</td>\n",
       "    </tr>\n",
       "  </tbody>\n",
       "</table>\n",
       "</div>"
      ],
      "text/plain": [
       "                features  importance\n",
       "8              bake_time    0.152040\n",
       "2              bake_temp    0.122079\n",
       "5                density    0.119949\n",
       "4               calories    0.093532\n",
       "9            butter_type    0.090902\n",
       "7      grams_baking_soda    0.075597\n",
       "1            sugar_index    0.071242\n",
       "6                     pH    0.063906\n",
       "3             chill_time    0.059827\n",
       "0   sugar_to_flour_ratio    0.058803\n",
       "10                weight    0.054315\n",
       "11                  nuts    0.027270\n",
       "12             chocolate    0.010539"
      ]
     },
     "execution_count": 23,
     "metadata": {},
     "output_type": "execute_result"
    }
   ],
   "source": [
    "for i in range ((X.shape[1])):\n",
    "    features.loc[i] = [X.columns[i],features_list[i]]\n",
    "\n",
    "features.sort_values('importance', ascending=False)"
   ]
  },
  {
   "cell_type": "code",
   "execution_count": null,
   "metadata": {},
   "outputs": [],
   "source": []
  }
 ],
 "metadata": {
  "kernelspec": {
   "display_name": "Python 3",
   "language": "python",
   "name": "python3"
  },
  "language_info": {
   "codemirror_mode": {
    "name": "ipython",
    "version": 3
   },
   "file_extension": ".py",
   "mimetype": "text/x-python",
   "name": "python",
   "nbconvert_exporter": "python",
   "pygments_lexer": "ipython3",
   "version": "3.6.8"
  }
 },
 "nbformat": 4,
 "nbformat_minor": 2
}
