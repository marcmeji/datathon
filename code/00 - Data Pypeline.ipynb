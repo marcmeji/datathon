{
 "cells": [
  {
   "cell_type": "code",
   "execution_count": 1,
   "metadata": {},
   "outputs": [],
   "source": [
    "import pandas as pd\n",
    "import numpy as np\n",
    "\n",
    "from sklearn.ensemble import RandomForestClassifier\n",
    "\n",
    "from sklearn.model_selection import train_test_split\n"
   ]
  },
  {
   "cell_type": "code",
   "execution_count": 2,
   "metadata": {},
   "outputs": [],
   "source": [
    "df = pd.read_csv('../data/cookies.csv')"
   ]
  },
  {
   "cell_type": "markdown",
   "metadata": {},
   "source": [
    "### Data Cleaning"
   ]
  },
  {
   "cell_type": "code",
   "execution_count": 3,
   "metadata": {},
   "outputs": [],
   "source": [
    "#Creamos las columnas dummies y en el mismo loop le ponemos un valor en función de la columna mixins:\n",
    "columns = ['raisins','nuts','chocolate','oats','peanut butter']\n",
    "for col in columns:\n",
    "    df[col]=0\n",
    "    df.loc[df[\"mixins\"].str.contains(col, na=False), col] = 1\n",
    "#Borramos la columna \"mixins\":\n",
    "df = df.drop(\"mixins\", axis = 1)"
   ]
  },
  {
   "cell_type": "code",
   "execution_count": 4,
   "metadata": {},
   "outputs": [],
   "source": [
    "df.loc[df[\"butter type\"].str.contains('melted', na=False), 'butter type'] = 1\n",
    "df.loc[df[\"butter type\"].str.contains('cubed', na=False), 'butter type'] = 0"
   ]
  },
  {
   "cell_type": "code",
   "execution_count": 5,
   "metadata": {},
   "outputs": [],
   "source": [
    "df = df.dropna()\n",
    "df.columns = ['sugar_to_flour_ratio', 'sugar_index', 'bake_temp', 'chill_time',\n",
    "      'calories', 'density', 'pH', 'grams_baking_soda', 'bake_time',\n",
    "      'quality', 'butter_type', 'weight', 'diameter',\n",
    "      'crunch_factor', 'aesthetic_appeal','raisins','nuts','chocolate','oats','peanut butter']"
   ]
  },
  {
   "cell_type": "markdown",
   "metadata": {},
   "source": [
    "### EDA"
   ]
  },
  {
   "cell_type": "code",
   "execution_count": 6,
   "metadata": {},
   "outputs": [],
   "source": [
    "#Sugar to flour\n",
    "df = df[df.sugar_to_flour_ratio < 2]\n",
    "\n",
    "#Sugar index\n",
    "Q1 = df['sugar_index'].quantile(0.25)\n",
    "Q3 = df['sugar_index'].quantile(0.75)\n",
    "IQR = Q3 - Q1\n",
    "\n",
    "lower = Q1 - 1.5* IQR\n",
    "upper = Q3 + 1.5* IQR\n",
    "\n",
    "df = df.loc[(df['sugar_index'] > lower) & (df['sugar_index'] < upper)]\n",
    "\n",
    "#Bake temp\n",
    "Q1 = df['bake_temp'].quantile(0.25)\n",
    "Q3 = df['bake_temp'].quantile(0.75)\n",
    "IQR = Q3 - Q1\n",
    "\n",
    "lower = Q1 - 1.5* IQR\n",
    "upper = Q3 + 1.5* IQR\n",
    "\n",
    "df = df.loc[(df['bake_temp'] > lower) & (df['bake_temp'] < upper)]\n",
    "\n",
    "#Calories:\n",
    "df = df.loc[df.calories > 0]\n",
    "\n",
    "#Density:\n",
    "df = df[df.density < 4]\n",
    "\n",
    "#pH:\n",
    "df = df[df.pH < 14]\n",
    "\n",
    "#Weight:\n",
    "df = df[df.weight > 0]\n",
    "\n",
    "#Diameter:\n",
    "df.drop(columns='diameter', inplace=True)"
   ]
  },
  {
   "cell_type": "markdown",
   "metadata": {},
   "source": [
    "### Feature Selection"
   ]
  },
  {
   "cell_type": "code",
   "execution_count": 7,
   "metadata": {},
   "outputs": [],
   "source": [
    "target = 'quality'\n",
    "df['random'] = np.random.randint(1, 101, df.shape[0])\n",
    "\n",
    "X = df.drop(target, axis=1)\n",
    "y = df[target]\n",
    "\n",
    "X_train, X_test, y_train, y_test = train_test_split(X, y, test_size=0.2, random_state=42)"
   ]
  },
  {
   "cell_type": "code",
   "execution_count": 8,
   "metadata": {},
   "outputs": [],
   "source": [
    "RFC = RandomForestClassifier(max_depth = 10, max_features='auto', n_estimators=10, n_jobs=-1)\n",
    "RFC.fit(X_train, y_train)\n",
    "\n",
    "y_train_pred = RFC.predict(X_train)\n",
    "y_pred = RFC.predict(X_test)"
   ]
  },
  {
   "cell_type": "code",
   "execution_count": 9,
   "metadata": {},
   "outputs": [],
   "source": [
    "features_list = RFC.feature_importances_\n",
    "features = pd.DataFrame(columns=['features','importance'])\n",
    "\n",
    "for i in range ((X.shape[1])):\n",
    "    features.loc[i] = [X.columns[i],features_list[i]]"
   ]
  },
  {
   "cell_type": "code",
   "execution_count": 10,
   "metadata": {},
   "outputs": [],
   "source": [
    "margin_value = float(features[features['features']=='random']['importance'])\n",
    "drop_columns = list(features['features'][features['importance'] <= margin_value])\n",
    "\n",
    "df = df.drop(drop_columns, axis = 1)"
   ]
  },
  {
   "cell_type": "markdown",
   "metadata": {},
   "source": [
    "### Binning Target Variable"
   ]
  },
  {
   "cell_type": "code",
   "execution_count": 11,
   "metadata": {},
   "outputs": [],
   "source": [
    "low = [3,4,5]\n",
    "medium = [6,7,8]\n",
    "high = [9,10,11]\n",
    "\n",
    "def bins (x):\n",
    "    if x in low:\n",
    "        return 0\n",
    "    elif x in medium:\n",
    "        return 1\n",
    "    elif x in high:\n",
    "        return 2\n",
    "\n",
    "df['quality_binned'] = df['quality'].apply(bins)\n",
    "\n",
    "df = df.drop(columns='quality')"
   ]
  },
  {
   "cell_type": "markdown",
   "metadata": {},
   "source": [
    "### Export csv"
   ]
  },
  {
   "cell_type": "code",
   "execution_count": 12,
   "metadata": {},
   "outputs": [],
   "source": [
    "df.to_csv('../data/cookies_target_binned.csv', index=False)"
   ]
  }
 ],
 "metadata": {
  "kernelspec": {
   "display_name": "Python 3",
   "language": "python",
   "name": "python3"
  },
  "language_info": {
   "codemirror_mode": {
    "name": "ipython",
    "version": 3
   },
   "file_extension": ".py",
   "mimetype": "text/x-python",
   "name": "python",
   "nbconvert_exporter": "python",
   "pygments_lexer": "ipython3",
   "version": "3.6.8"
  }
 },
 "nbformat": 4,
 "nbformat_minor": 2
}
